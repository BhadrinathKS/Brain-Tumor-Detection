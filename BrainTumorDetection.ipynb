{
  "nbformat": 4,
  "nbformat_minor": 0,
  "metadata": {
    "colab": {
      "provenance": [],
      "authorship_tag": "ABX9TyP4ZbXgrrc6xc/uEPC6eOXj",
      "include_colab_link": true
    },
    "kernelspec": {
      "name": "python3",
      "display_name": "Python 3"
    },
    "language_info": {
      "name": "python"
    }
  },
  "cells": [
    {
      "cell_type": "markdown",
      "metadata": {
        "id": "view-in-github",
        "colab_type": "text"
      },
      "source": [
        "<a href=\"https://colab.research.google.com/github/BhadrinathKS/Brain-Tumor-Detection/blob/main/BrainTumorDetection.ipynb\" target=\"_parent\"><img src=\"https://colab.research.google.com/assets/colab-badge.svg\" alt=\"Open In Colab\"/></a>"
      ]
    },
    {
      "cell_type": "markdown",
      "source": [
        "\n",
        "Brain Tumor Detection\n",
        "---\n",
        "Author: Bhadrinath Kolluru\n",
        "\n",
        "Date: 18th July, 2024\n",
        "\n",
        "\n"
      ],
      "metadata": {
        "id": "dRLfAqU15ETw"
      }
    },
    {
      "cell_type": "markdown",
      "source": [
        "# 1) Project Overview & Objectives"
      ],
      "metadata": {
        "id": "bei4u7J44vbW"
      }
    },
    {
      "cell_type": "markdown",
      "source": [
        "The purpose of this project is to build a CNN model that can classify if a brain has a tumor or not based off various MRI scans."
      ],
      "metadata": {
        "id": "E0jMEHJM5cLj"
      }
    },
    {
      "cell_type": "markdown",
      "source": [
        "#2) Import Libraries & Connect Data"
      ],
      "metadata": {
        "id": "C0F9TNkbuTOM"
      }
    },
    {
      "cell_type": "code",
      "source": [
        "from google.colab import drive\n",
        "drive.mount('/content/drive')\n",
        "\n",
        "# this creates a symbolic link so that now the path /content/gdrive/My\\ Drive/ is equal to /mydrive\n",
        "!ln -s /content/drive/My\\ Drive/ /Gdrive\n",
        "!ls /Gdrive"
      ],
      "metadata": {
        "id": "e0H7LdwECpMW"
      },
      "execution_count": null,
      "outputs": []
    },
    {
      "cell_type": "code",
      "execution_count": 37,
      "metadata": {
        "id": "PJb1V7yQuROv"
      },
      "outputs": [],
      "source": [
        "# Import Libraries\n",
        "import os, shutil\n",
        "import cv2\n",
        "import glob\n",
        "import imutils\n",
        "import xml.etree.ElementTree as ET\n",
        "import tensorflow as tf\n",
        "import pandas as pd\n",
        "import numpy as np\n",
        "import seaborn as sns\n",
        "import time\n",
        "import matplotlib.pyplot as plt\n",
        "%matplotlib inline\n",
        "plt.style.use('ggplot')\n",
        "\n",
        "# Import Keras (VGG-19 Machine Learning Model)\n",
        "import keras\n",
        "from keras.preprocessing.image import ImageDataGenerator\n",
        "from keras.models import Model\n",
        "from keras.layers import Flatten, Dense, Dropout\n",
        "from keras.applications.vgg19 import VGG19\n",
        "from keras.optimizers import SGD, RMSprop, Adam\n",
        "from keras.callbacks import ModelCheckpoint, EarlyStopping, ReduceLROnPlateau"
      ]
    },
    {
      "cell_type": "markdown",
      "source": [
        "# 3) Image Renaming & EDA"
      ],
      "metadata": {
        "id": "qA9b43oWYLei"
      }
    },
    {
      "cell_type": "code",
      "source": [
        "# Renaming all Files\n",
        "\n",
        "# Yes Directory\n",
        "tumerous = '/Gdrive/MachineLearningProject/images/datasets/yes/'\n",
        "countY = 1\n",
        "\n",
        "for filename in os.listdir(tumerous):\n",
        "    source = tumerous + filename\n",
        "    destination = tumerous + \"Y_\" +str(countY)+\".jpg\"\n",
        "    os.rename(source, destination)\n",
        "    countY+=1\n",
        "print(\"All files are renamed in the Yes Directory!\\n\")\n",
        "\n",
        "print(\". . .\\n\")\n",
        "\n",
        "# No Directory\n",
        "non_tumerous = '/Gdrive/MachineLearningProject/images/datasets/no/'\n",
        "countN = 1\n",
        "\n",
        "for filename in os.listdir(non_tumerous):\n",
        "    source = non_tumerous + filename\n",
        "    destination = non_tumerous +\"N_\" +str(countN)+\".jpg\"\n",
        "    os.rename(source, destination)\n",
        "    countN+=1\n",
        "print(\"All files are renamed in the No Directory\")"
      ],
      "metadata": {
        "colab": {
          "base_uri": "https://localhost:8080/"
        },
        "id": "R6pbPS7fRrRK",
        "outputId": "c358bf4c-b2fb-4011-e61e-2259f51c0c45"
      },
      "execution_count": 25,
      "outputs": [
        {
          "output_type": "stream",
          "name": "stdout",
          "text": [
            "All files are renamed in the Yes Directory!\n",
            "\n",
            ". . .\n",
            "\n",
            "All files are renamed in the No Directory\n"
          ]
        }
      ]
    },
    {
      "cell_type": "code",
      "source": [
        "# EDA (Exploratory Data Analysis)\n",
        "\n",
        "Ylist = os.listdir(\"/Gdrive/MachineLearningProject/images/datasets/yes/\")\n",
        "number_files_yes = len(Ylist)\n",
        "print(\"Yes Files: \"+str(number_files_yes))\n",
        "\n",
        "\n",
        "Nlist = os.listdir(\"/Gdrive/MachineLearningProject/images/datasets/no/\")\n",
        "number_files_no = len(Nlist)\n",
        "print(\"No Files: \"+str(number_files_no))"
      ],
      "metadata": {
        "colab": {
          "base_uri": "https://localhost:8080/"
        },
        "id": "6ucY2hpoX-Bt",
        "outputId": "5d92232f-c883-41cc-9902-8d738716245f"
      },
      "execution_count": 33,
      "outputs": [
        {
          "output_type": "stream",
          "name": "stdout",
          "text": [
            "Yes Files: 155\n",
            "No Files: 98\n"
          ]
        }
      ]
    },
    {
      "cell_type": "markdown",
      "source": [
        "# 4) Data Visualization on chosen sample"
      ],
      "metadata": {
        "id": "p7PU6Pg5Zs_o"
      }
    },
    {
      "cell_type": "code",
      "source": [
        "# Plot Of Original Sample\n",
        "\n",
        "data = {'tumerous': number_files_yes, 'non-tumerous': number_files_no}\n",
        "\n",
        "typex = data.keys()\n",
        "values = data.values()\n",
        "\n",
        "fig = plt.figure(figsize=(5,7))\n",
        "plt.bar(typex, values, color=\"red\")\n",
        "plt.xlabel(\"Data\")\n",
        "plt.ylabel(\"# of Tumerous Images\")\n",
        "plt.title(\"Count of Tumerous Brain Images\")"
      ],
      "metadata": {
        "colab": {
          "base_uri": "https://localhost:8080/",
          "height": 663
        },
        "id": "Hblydja3Zynn",
        "outputId": "a045d0d5-d1dd-46af-9380-f452d24326b7"
      },
      "execution_count": 34,
      "outputs": [
        {
          "output_type": "execute_result",
          "data": {
            "text/plain": [
              "Text(0.5, 1.0, 'Count of Tumerous Brain Images')"
            ]
          },
          "metadata": {},
          "execution_count": 34
        },
        {
          "output_type": "display_data",
          "data": {
            "text/plain": [
              "<Figure size 500x700 with 1 Axes>"
            ],
            "image/png": "[encoded data removed]"
          },
          "metadata": {}
        }
      ]
    },
    {
      "cell_type": "markdown",
      "source": [
        "# 5) Data Augmentation"
      ],
      "metadata": {
        "id": "TUjn6eHEbGyG"
      }
    },
    {
      "cell_type": "code",
      "source": [
        "# Create Timer\n",
        "def timing(sec_elapsed):\n",
        "    h = int(sec_elapsed / (60*60))\n",
        "    m = int(sec_elapsed % (60*60) / 60)\n",
        "    s = sec_elapsed % 60\n",
        "    return f\"{h}:{m}:{s}\""
      ],
      "metadata": {
        "id": "R10DLbyzgncr"
      },
      "execution_count": 40,
      "outputs": []
    },
    {
      "cell_type": "code",
      "source": [
        "# 155(61%), 98(39%)\n",
        "# There is an imbalance in the sample so it is important to create more images to increase accuracy of the model\n",
        "\n",
        "def augmented_data(file_dir, n_gererated_samples, save_to_dir):\n",
        "    data_gen = ImageDataGenerator(rotation_range=10,\n",
        "                       width_shift_range=0.1,\n",
        "                       height_shift_range=0.1,\n",
        "                       shear_range=0.1,\n",
        "                       brightness_range=(0.3, 1.0),\n",
        "                       horizontal_flip=True,\n",
        "                       vertical_flip=True,\n",
        "                       fill_mode='nearest')\n",
        "    for filename in os.listdir(file_dir):\n",
        "      image = cv2.imread(file_dir + '/' + filename)\n",
        "      image = image.reshape((1,) + image.shape)\n",
        "      save_prefix = 'aug_' + filename[:-4]\n",
        "      i = 0\n",
        "      for batch in data_gen.flow(x = image, batch_size = 1, save_to_dir = save_to_dir, save_prefix = save_prefix, save_format = \"jpg\"):\n",
        "        i+=1\n",
        "      if i>n_gererated_samples:\n",
        "          break"
      ],
      "metadata": {
        "id": "ASQJ2l6VbGj2"
      },
      "execution_count": 49,
      "outputs": []
    },
    {
      "cell_type": "code",
      "source": [
        "# Augmentation Start\n",
        "import time\n",
        "start_time = time.time()\n",
        "\n",
        "yes_path = '/Gdrive/MachineLearningProject/images/datasets/yes/'\n",
        "no_path = '/Gdrive/MachineLearningProject/images/datasets/no/'\n",
        "augmented_data_path = '/Gdrive/MachineLearningProject/data/augmented_data/'\n",
        "\n",
        "augmented_data(file_dir = yes_path, n_gererated_samples=6, save_to_dir=augmented_data_path+'yes')\n",
        "augmented_data(file_dir = no_path, n_gererated_samples=9, save_to_dir=augmented_data_path+'no')\n",
        "\n",
        "end_time = time.time()\n",
        "execution_time = end_time - start_time\n",
        "print(timing(execution_time))"
      ],
      "metadata": {
        "id": "862kqBVJg3_R"
      },
      "execution_count": null,
      "outputs": []
    },
    {
      "cell_type": "code",
      "source": [
        "# Post-Augmentation Results\n",
        "\n",
        "def data_summary(main_path)\n",
        "  yes_path = \"/Gdrive/MachineLearningProject/images/datasets/yes/\"\n",
        "  no_path = \"/Gdrive/MachineLearningProject/images/datasets/no/\"\n",
        "\n",
        "  n_pos = len(os.listdir(yes_path))\n",
        "  n_neg = len(os.listdir(no_path))\n",
        "  n = (n_pos + n_neg)\n",
        "  pos_per = (n_pos*100/n)\n",
        "  neg_per = (n_neg*100/n)\n",
        "\n",
        "  print(f\"Number of samples: {n}\")\n",
        "  print(\"Number of positive samples: \"+f\"{n_pos} \"+\"(\"+{pos_per}%+\")\")\n",
        "  print(\"Number of negative samples: \"+f\"{n_neg} \"+\"(\"+{neg_per}%+\")\")"
      ],
      "metadata": {
        "id": "3hWQ8rZlnAxL"
      },
      "execution_count": null,
      "outputs": []
    },
    {
      "cell_type": "markdown",
      "source": [
        "# 6) Data Visualization Post Augmentation"
      ],
      "metadata": {
        "id": "ugRJbZpdsxxQ"
      }
    },
    {
      "cell_type": "code",
      "source": [
        "# EDA (Exploratory Data Analysis) - Post Augmentation\n",
        "\n",
        "Ylist = os.listdir(\"/Gdrive/MachineLearningProject/images/datasets/yes/\")\n",
        "number_files_yes = len(Ylist)\n",
        "print(\"Yes Files: \"+str(number_files_yes))\n",
        "\n",
        "\n",
        "Nlist = os.listdir(\"/Gdrive/MachineLearningProject/images/datasets/no/\")\n",
        "number_files_no = len(Nlist)\n",
        "print(\"No Files: \"+str(number_files_no))"
      ],
      "metadata": {
        "id": "u56UvHZ5tLNJ"
      },
      "execution_count": null,
      "outputs": []
    },
    {
      "cell_type": "code",
      "source": [
        "# New Plot\n",
        "\n",
        "data = {'tumerous': number_files_yes, 'non-tumerous': number_files_no}\n",
        "\n",
        "typex = data.keys()\n",
        "values = data.values()\n",
        "\n",
        "fig = plt.figure(figsize=(5,7))\n",
        "plt.bar(typex, values, color=\"red\")\n",
        "plt.xlabel(\"Data\")\n",
        "plt.ylabel(\"# of Tumerous Images\")\n",
        "plt.title(\"Count of Tumerous Brain Images\")"
      ],
      "metadata": {
        "id": "Eo81wkYns9N5"
      },
      "execution_count": null,
      "outputs": []
    },
    {
      "cell_type": "markdown",
      "source": [
        "# 7) Data Preprocessing"
      ],
      "metadata": {
        "id": "eWpDhK2GtuXA"
      }
    },
    {
      "cell_type": "code",
      "source": [
        "# Convert BGR to GRAY\n",
        "# GaussianBlur\n",
        "# Threshold\n",
        "# Erode\n",
        "# Dilate\n",
        "# Find Contours"
      ],
      "metadata": {
        "id": "IrK0qUzTtySG"
      },
      "execution_count": null,
      "outputs": []
    },
    {
      "cell_type": "code",
      "source": [
        "def crop_mri(image, plot=False):\n",
        "    gray = cv2.cvtColor(image, cv2.COLOR_BGR2GRAY)\n",
        "    gray = cv2.GaussianBlur(gray, (5,5), 0)\n",
        "\n",
        "    thres = cv2.threshhold(gray, 45, 255, cv2.THRESH_BINARY)[1]\n",
        "    thres = cv2.erode(thres, None, iterations = 2)\n",
        "    thres = cv2.dilate(thres, None, iterations = 2)\n",
        "\n",
        "    cv2.findContours(thres.copy(), cv2.RETR_EXTERNAL, cv2.CHAIN_APPROX_SIMPLE)\n",
        "    cnts =  imutils.grab_contours(cnts)\n",
        "    c = max(cnts, key = cv2.contourArea)\n",
        "\n",
        "    extLeft = tuple(c[c[:,:,0].argmin()][0])\n",
        "    extRight = tuple(c[c[:,:,0].argmax()][0])\n",
        "    extTop = tuple(c[c[:,:,1].argmin()][0])\n",
        "    extBot = tuple(c[c[:,:,1].argmax()][0])\n",
        "\n",
        "    new_image = image[extTop[1]:extBot[1], extLeft[0]:extRight[0]]\n",
        "\n",
        "    if plot:\n",
        "        plt.figure()\n",
        "        plt.subplot(1, 2, 1)\n",
        "        plt.imshow(image)\n",
        "\n",
        "        plt.tick_params(axis='both', which='both',\n",
        "                        top=False, bottom=False, left=False, right=False,\n",
        "                        labelbottom=False, labeltop=False, labelleft=False, labelright=False)\n",
        "\n",
        "        plt.title('Original Image')\n",
        "\n",
        "        plt.subplot(1, 2, 2)\n",
        "        plt.imshow(new_image)\n",
        "\n",
        "        plt.tick_params(axis='both', which='both',\n",
        "                        top=False, bottom=False, left=False, right=False,\n",
        "                        labelbottom=False, labeltop=False, labelleft=False, labelright=False)\n",
        "\n",
        "        plt.title('Cropped Image')\n",
        "        plt.show()\n",
        "    return new_image\n",
        "\n"
      ],
      "metadata": {
        "id": "DvZsTymguBEx"
      },
      "execution_count": null,
      "outputs": []
    },
    {
      "cell_type": "code",
      "source": [
        "# Tumerous MRI Scan Cropped\n",
        "img = cv2.imread('/Gdrive/MachineLearningProject/data/augmented_data/yes/aug_Y_1_0_2624.jpg')\n",
        "crop_mri(img, True)"
      ],
      "metadata": {
        "id": "HDczO-0L9Zpr"
      },
      "execution_count": null,
      "outputs": []
    },
    {
      "cell_type": "code",
      "source": [
        "# Non-Tumerous MRI Scan Cropped\n",
        "img = cv2.imread('/Gdrive/MachineLearningProject/data/augmented_data/yes/aug_N_1_0_2614.jpg')\n",
        "crop_mri(img, True)"
      ],
      "metadata": {
        "id": "Mv4ovKiU-Ds6"
      },
      "execution_count": null,
      "outputs": []
    }
  ]
}